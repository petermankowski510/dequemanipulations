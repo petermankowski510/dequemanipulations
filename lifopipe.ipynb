{
 "cells": [
  {
   "cell_type": "code",
   "execution_count": 1,
   "id": "2f49401a",
   "metadata": {},
   "outputs": [],
   "source": [
    "import queue\n",
    "from collections import deque\n",
    "q1=deque(maxlen=10)"
   ]
  },
  {
   "cell_type": "code",
   "execution_count": 2,
   "id": "7a8af604",
   "metadata": {},
   "outputs": [],
   "source": [
    "for i in range(1, 40, 3):\n",
    "    q1.append(i)"
   ]
  },
  {
   "cell_type": "code",
   "execution_count": 3,
   "id": "8a679379",
   "metadata": {},
   "outputs": [
    {
     "name": "stdout",
     "output_type": "stream",
     "text": [
      "deque([10, 13, 16, 19, 22, 25, 28, 31, 34, 37], maxlen=10)\n"
     ]
    }
   ],
   "source": [
    "print(q1)"
   ]
  },
  {
   "cell_type": "code",
   "execution_count": 4,
   "id": "13f4c5b8",
   "metadata": {},
   "outputs": [
    {
     "name": "stdout",
     "output_type": "stream",
     "text": [
      "37\n",
      "deque([10, 13, 16, 19, 22, 25, 28, 31, 34], maxlen=10)\n"
     ]
    }
   ],
   "source": [
    "print(q1.pop())\n",
    "print(q1)"
   ]
  },
  {
   "cell_type": "code",
   "execution_count": 5,
   "id": "66a0f1f8",
   "metadata": {},
   "outputs": [
    {
     "name": "stdout",
     "output_type": "stream",
     "text": [
      "10\n",
      "deque([13, 16, 19, 22, 25, 28, 31, 34], maxlen=10)\n"
     ]
    }
   ],
   "source": [
    "print(q1.popleft())\n",
    "print(q1)"
   ]
  },
  {
   "cell_type": "code",
   "execution_count": 6,
   "id": "2ec1dcd0",
   "metadata": {},
   "outputs": [
    {
     "name": "stdout",
     "output_type": "stream",
     "text": [
      "deque([13, 16, 19, 22, 25, 28, 31, 34], maxlen=10)\n"
     ]
    }
   ],
   "source": [
    "print(q1)"
   ]
  },
  {
   "cell_type": "code",
   "execution_count": 7,
   "id": "19eec411",
   "metadata": {},
   "outputs": [],
   "source": [
    "# using insert() to insert the value 3 at 5th position\n",
    "pos, val = 4, 9\n",
    "q1.insert(pos,val)"
   ]
  },
  {
   "cell_type": "code",
   "execution_count": 8,
   "id": "a9ea1c16",
   "metadata": {},
   "outputs": [
    {
     "name": "stdout",
     "output_type": "stream",
     "text": [
      "deque([13, 16, 19, 22, 9, 25, 28, 31, 34], maxlen=10)\n"
     ]
    }
   ],
   "source": [
    "print(q1)"
   ]
  },
  {
   "cell_type": "code",
   "execution_count": 9,
   "id": "75356cab",
   "metadata": {},
   "outputs": [
    {
     "name": "stdout",
     "output_type": "stream",
     "text": [
      "The number 22 first occurs at a position : \n",
      "3\n"
     ]
    }
   ],
   "source": [
    "print (\"The number 22 first occurs at a position : \")\n",
    "print (q1.index(22,0,6))"
   ]
  },
  {
   "cell_type": "code",
   "execution_count": 10,
   "id": "ed4ea952",
   "metadata": {},
   "outputs": [
    {
     "name": "stdout",
     "output_type": "stream",
     "text": [
      "a lenght:  9\n",
      "a lenght:  8\n",
      "a lenght:  7\n",
      "a lenght:  6\n",
      "a lenght:  5\n",
      "a lenght:  4\n",
      "a lenght:  3\n",
      "a lenght:  2\n",
      "a lenght:  1\n",
      "Array arrived: [34, 31, 28, 25, 9, 22, 19, 16, 13], size of: 9\n"
     ]
    }
   ],
   "source": [
    "a=[]\n",
    "while(len(q1) != 0):\n",
    "    p=len(q1)\n",
    "    print(\"a lenght: \", p)\n",
    "    i=q1.pop()\n",
    "    a.append(i)\n",
    "    \n",
    "print(\"Array arrived: {n}, size of: {l}\" .format(n=a, l=len(a)))"
   ]
  },
  {
   "cell_type": "code",
   "execution_count": 11,
   "id": "d0ad8d9e",
   "metadata": {},
   "outputs": [
    {
     "data": {
      "text/plain": [
       "[9, 13, 16, 19, 22, 25, 28, 31, 34]"
      ]
     },
     "execution_count": 11,
     "metadata": {},
     "output_type": "execute_result"
    }
   ],
   "source": [
    "a.sort()\n",
    "a"
   ]
  },
  {
   "cell_type": "code",
   "execution_count": null,
   "id": "0a016e19",
   "metadata": {},
   "outputs": [],
   "source": []
  }
 ],
 "metadata": {
  "kernelspec": {
   "display_name": "Python 3",
   "language": "python",
   "name": "python3"
  },
  "language_info": {
   "codemirror_mode": {
    "name": "ipython",
    "version": 3
   },
   "file_extension": ".py",
   "mimetype": "text/x-python",
   "name": "python",
   "nbconvert_exporter": "python",
   "pygments_lexer": "ipython3",
   "version": "3.7.4"
  }
 },
 "nbformat": 4,
 "nbformat_minor": 5
}
